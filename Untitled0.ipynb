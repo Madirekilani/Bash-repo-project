{
  "nbformat": 4,
  "nbformat_minor": 0,
  "metadata": {
    "colab": {
      "provenance": [],
      "authorship_tag": "ABX9TyPtKW8g8CusN0BvJuEL5fZ+",
      "include_colab_link": true
    },
    "kernelspec": {
      "name": "python3",
      "display_name": "Python 3"
    },
    "language_info": {
      "name": "python"
    }
  },
  "cells": [
    {
      "cell_type": "markdown",
      "metadata": {
        "id": "view-in-github",
        "colab_type": "text"
      },
      "source": [
        "<a href=\"https://colab.research.google.com/github/Madirekilani/Bash-repo-project/blob/main/Untitled0.ipynb\" target=\"_parent\"><img src=\"https://colab.research.google.com/assets/colab-badge.svg\" alt=\"Open In Colab\"/></a>"
      ]
    },
    {
      "cell_type": "code",
      "execution_count": null,
      "metadata": {
        "colab": {
          "base_uri": "https://localhost:8080/"
        },
        "id": "zty5n4ZBE2N_",
        "outputId": "4b3ba1a5-9d31-4c43-f8d4-5d10e6fb5d9a"
      },
      "outputs": [
        {
          "output_type": "stream",
          "name": "stdout",
          "text": [
            "Missing values per feature:\n",
            "Country                           462\n",
            "Region                           1127\n",
            "Population                       1127\n",
            "Under15                          1132\n",
            "Over60                           1301\n",
            "FertilityRate                    1301\n",
            "LifeExpectancy                   1301\n",
            "ChildMortality                   1301\n",
            "CellularSubscribers              1301\n",
            "LiteracyRate                     1301\n",
            "GNI                              1301\n",
            "PrimarySchoolEnrollmentMale      1301\n",
            "PrimarySchoolEnrollmentFemale    1301\n",
            "dtype: int64\n"
          ]
        }
      ],
      "source": [
        "import pandas as pd\n",
        "df = pd.read_csv('data.csv')\n",
        "missing_values_per_feature = df.isnull().sum()\n",
        "\n",
        "print(\"Missing values per feature:\")\n",
        "print(missing_values_per_feature)"
      ]
    },
    {
      "cell_type": "code",
      "source": [
        "print (df)"
      ],
      "metadata": {
        "colab": {
          "base_uri": "https://localhost:8080/"
        },
        "id": "5885Wx57M1jO",
        "outputId": "c81b5381-5d48-4832-d664-bbc28cb188a3"
      },
      "execution_count": null,
      "outputs": [
        {
          "output_type": "stream",
          "name": "stdout",
          "text": [
            "                                                Country  Region  Population  \\\n",
            "0     Afghanistan,Eastern Mediterranean,29825,47.42,...     NaN         NaN   \n",
            "1                                                   5.4     NaN         NaN   \n",
            "2                                                   NaN    60.0        98.5   \n",
            "3                                                  1140     NaN         NaN   \n",
            "4                  ,,\\nAlbania,Europe,3162,21.33,14.93,     NaN         NaN   \n",
            "...                                                 ...     ...         ...   \n",
            "1296                \\nZimbabwe,Africa,13724,40.24,5.68,     NaN         NaN   \n",
            "1297                                               3.64     NaN         NaN   \n",
            "1298                                                NaN    54.0        89.8   \n",
            "1299                                               92.2     NaN         NaN   \n",
            "1300                                              ,,,\\n     NaN         NaN   \n",
            "\n",
            "      Under15  Over60  FertilityRate  LifeExpectancy  ChildMortality  \\\n",
            "0         NaN     NaN            NaN             NaN             NaN   \n",
            "1         NaN     NaN            NaN             NaN             NaN   \n",
            "2       54.26     NaN            NaN             NaN             NaN   \n",
            "3         NaN     NaN            NaN             NaN             NaN   \n",
            "4         NaN     NaN            NaN             NaN             NaN   \n",
            "...       ...     ...            ...             ...             ...   \n",
            "1296      NaN     NaN            NaN             NaN             NaN   \n",
            "1297      NaN     NaN            NaN             NaN             NaN   \n",
            "1298    72.13     NaN            NaN             NaN             NaN   \n",
            "1299      NaN     NaN            NaN             NaN             NaN   \n",
            "1300      NaN     NaN            NaN             NaN             NaN   \n",
            "\n",
            "      CellularSubscribers  LiteracyRate  GNI  PrimarySchoolEnrollmentMale  \\\n",
            "0                     NaN           NaN  NaN                          NaN   \n",
            "1                     NaN           NaN  NaN                          NaN   \n",
            "2                     NaN           NaN  NaN                          NaN   \n",
            "3                     NaN           NaN  NaN                          NaN   \n",
            "4                     NaN           NaN  NaN                          NaN   \n",
            "...                   ...           ...  ...                          ...   \n",
            "1296                  NaN           NaN  NaN                          NaN   \n",
            "1297                  NaN           NaN  NaN                          NaN   \n",
            "1298                  NaN           NaN  NaN                          NaN   \n",
            "1299                  NaN           NaN  NaN                          NaN   \n",
            "1300                  NaN           NaN  NaN                          NaN   \n",
            "\n",
            "      PrimarySchoolEnrollmentFemale  \n",
            "0                               NaN  \n",
            "1                               NaN  \n",
            "2                               NaN  \n",
            "3                               NaN  \n",
            "4                               NaN  \n",
            "...                             ...  \n",
            "1296                            NaN  \n",
            "1297                            NaN  \n",
            "1298                            NaN  \n",
            "1299                            NaN  \n",
            "1300                            NaN  \n",
            "\n",
            "[837 rows x 13 columns]\n"
          ]
        }
      ]
    },
    {
      "cell_type": "code",
      "source": [
        "mean_imputed_df = df.fillna(df.mean())"
      ],
      "metadata": {
        "colab": {
          "base_uri": "https://localhost:8080/"
        },
        "id": "NBJpQV1AIi1I",
        "outputId": "357ab610-a7c4-4bb5-b3d2-e7cd6a2a0b19"
      },
      "execution_count": null,
      "outputs": [
        {
          "output_type": "stream",
          "name": "stderr",
          "text": [
            "<ipython-input-8-8a2c6fc0e202>:1: FutureWarning: The default value of numeric_only in DataFrame.mean is deprecated. In a future version, it will default to False. In addition, specifying 'numeric_only=None' is deprecated. Select only valid columns or specify the value of numeric_only to silence this warning.\n",
            "  mean_imputed_df = df.fillna(df.mean())\n"
          ]
        }
      ]
    },
    {
      "cell_type": "code",
      "source": [
        "median_imputed_df = df.fillna(df.median())\n"
      ],
      "metadata": {
        "colab": {
          "base_uri": "https://localhost:8080/"
        },
        "id": "gVDxofnlJXkf",
        "outputId": "54a39dd4-d8eb-46e3-8a04-3db64f3790a1"
      },
      "execution_count": null,
      "outputs": [
        {
          "output_type": "stream",
          "name": "stderr",
          "text": [
            "<ipython-input-9-adc82a2973af>:1: FutureWarning: The default value of numeric_only in DataFrame.median is deprecated. In a future version, it will default to False. In addition, specifying 'numeric_only=None' is deprecated. Select only valid columns or specify the value of numeric_only to silence this warning.\n",
            "  median_imputed_df = df.fillna(df.median())\n"
          ]
        }
      ]
    },
    {
      "cell_type": "code",
      "source": [
        "median_imputed_df = df.fillna(df.median(numeric_only=True))"
      ],
      "metadata": {
        "id": "gxGsaBeuJuQx"
      },
      "execution_count": null,
      "outputs": []
    },
    {
      "cell_type": "code",
      "source": [
        "df.drop_duplicates(inplace=True)\n"
      ],
      "metadata": {
        "id": "79ARHYYgK_xn"
      },
      "execution_count": null,
      "outputs": []
    },
    {
      "cell_type": "code",
      "source": [
        "df = pd.DataFrame(data)"
      ],
      "metadata": {
        "colab": {
          "base_uri": "https://localhost:8080/",
          "height": 144
        },
        "id": "Jn1Su-ZGNSzy",
        "outputId": "b393a481-07ff-4dfa-864b-ab7ba10cb3d5"
      },
      "execution_count": null,
      "outputs": [
        {
          "output_type": "error",
          "ename": "NameError",
          "evalue": "name 'data' is not defined",
          "traceback": [
            "\u001b[0;31m---------------------------------------------------------------------------\u001b[0m",
            "\u001b[0;31mNameError\u001b[0m                                 Traceback (most recent call last)",
            "\u001b[0;32m<ipython-input-18-039b238b38ef>\u001b[0m in \u001b[0;36m<cell line: 1>\u001b[0;34m()\u001b[0m\n\u001b[0;32m----> 1\u001b[0;31m \u001b[0mdf\u001b[0m \u001b[0;34m=\u001b[0m \u001b[0mpd\u001b[0m\u001b[0;34m.\u001b[0m\u001b[0mDataFrame\u001b[0m\u001b[0;34m(\u001b[0m\u001b[0mdata\u001b[0m\u001b[0;34m)\u001b[0m\u001b[0;34m\u001b[0m\u001b[0;34m\u001b[0m\u001b[0m\n\u001b[0m",
            "\u001b[0;31mNameError\u001b[0m: name 'data' is not defined"
          ]
        }
      ]
    },
    {
      "cell_type": "code",
      "source": [
        "duplicate_rows = df.duplicated()\n",
        "print(df[duplicate_rows])"
      ],
      "metadata": {
        "colab": {
          "base_uri": "https://localhost:8080/"
        },
        "id": "qcQvoNhuNyFZ",
        "outputId": "40a37157-6184-4256-ba55-fe83dae268d0"
      },
      "execution_count": null,
      "outputs": [
        {
          "output_type": "stream",
          "name": "stdout",
          "text": [
            "Empty DataFrame\n",
            "Columns: [Country, Region, Population, Under15, Over60, FertilityRate, LifeExpectancy, ChildMortality, CellularSubscribers, LiteracyRate, GNI, PrimarySchoolEnrollmentMale, PrimarySchoolEnrollmentFemale]\n",
            "Index: []\n"
          ]
        }
      ]
    },
    {
      "cell_type": "code",
      "source": [
        "df.drop_duplicates(inplace=True)\n",
        "print (df)"
      ],
      "metadata": {
        "colab": {
          "base_uri": "https://localhost:8080/"
        },
        "id": "jsuPZswhO1u3",
        "outputId": "d3c3e2e8-7f3e-40b1-8a0a-0244179737a3"
      },
      "execution_count": null,
      "outputs": [
        {
          "output_type": "stream",
          "name": "stdout",
          "text": [
            "                                                Country  Region  Population  \\\n",
            "0     Afghanistan,Eastern Mediterranean,29825,47.42,...     NaN         NaN   \n",
            "1                                                   5.4     NaN         NaN   \n",
            "2                                                   NaN    60.0        98.5   \n",
            "3                                                  1140     NaN         NaN   \n",
            "4                  ,,\\nAlbania,Europe,3162,21.33,14.93,     NaN         NaN   \n",
            "...                                                 ...     ...         ...   \n",
            "1296                \\nZimbabwe,Africa,13724,40.24,5.68,     NaN         NaN   \n",
            "1297                                               3.64     NaN         NaN   \n",
            "1298                                                NaN    54.0        89.8   \n",
            "1299                                               92.2     NaN         NaN   \n",
            "1300                                              ,,,\\n     NaN         NaN   \n",
            "\n",
            "      Under15  Over60  FertilityRate  LifeExpectancy  ChildMortality  \\\n",
            "0         NaN     NaN            NaN             NaN             NaN   \n",
            "1         NaN     NaN            NaN             NaN             NaN   \n",
            "2       54.26     NaN            NaN             NaN             NaN   \n",
            "3         NaN     NaN            NaN             NaN             NaN   \n",
            "4         NaN     NaN            NaN             NaN             NaN   \n",
            "...       ...     ...            ...             ...             ...   \n",
            "1296      NaN     NaN            NaN             NaN             NaN   \n",
            "1297      NaN     NaN            NaN             NaN             NaN   \n",
            "1298    72.13     NaN            NaN             NaN             NaN   \n",
            "1299      NaN     NaN            NaN             NaN             NaN   \n",
            "1300      NaN     NaN            NaN             NaN             NaN   \n",
            "\n",
            "      CellularSubscribers  LiteracyRate  GNI  PrimarySchoolEnrollmentMale  \\\n",
            "0                     NaN           NaN  NaN                          NaN   \n",
            "1                     NaN           NaN  NaN                          NaN   \n",
            "2                     NaN           NaN  NaN                          NaN   \n",
            "3                     NaN           NaN  NaN                          NaN   \n",
            "4                     NaN           NaN  NaN                          NaN   \n",
            "...                   ...           ...  ...                          ...   \n",
            "1296                  NaN           NaN  NaN                          NaN   \n",
            "1297                  NaN           NaN  NaN                          NaN   \n",
            "1298                  NaN           NaN  NaN                          NaN   \n",
            "1299                  NaN           NaN  NaN                          NaN   \n",
            "1300                  NaN           NaN  NaN                          NaN   \n",
            "\n",
            "      PrimarySchoolEnrollmentFemale  \n",
            "0                               NaN  \n",
            "1                               NaN  \n",
            "2                               NaN  \n",
            "3                               NaN  \n",
            "4                               NaN  \n",
            "...                             ...  \n",
            "1296                            NaN  \n",
            "1297                            NaN  \n",
            "1298                            NaN  \n",
            "1299                            NaN  \n",
            "1300                            NaN  \n",
            "\n",
            "[837 rows x 13 columns]\n"
          ]
        }
      ]
    },
    {
      "cell_type": "code",
      "source": [
        "df_cleaned_rows = df.dropna(axis=0)"
      ],
      "metadata": {
        "id": "n1p6CmzIPpn5"
      },
      "execution_count": null,
      "outputs": []
    },
    {
      "cell_type": "code",
      "source": [
        "print(df)"
      ],
      "metadata": {
        "colab": {
          "base_uri": "https://localhost:8080/"
        },
        "id": "GygoFmHRPsnN",
        "outputId": "8a2a89b8-9e37-4598-97b7-e005ca84ac92"
      },
      "execution_count": null,
      "outputs": [
        {
          "output_type": "stream",
          "name": "stdout",
          "text": [
            "                                                Country  Region  Population  \\\n",
            "0     Afghanistan,Eastern Mediterranean,29825,47.42,...     NaN         NaN   \n",
            "1                                                   5.4     NaN         NaN   \n",
            "2                                                   NaN    60.0        98.5   \n",
            "3                                                  1140     NaN         NaN   \n",
            "4                  ,,\\nAlbania,Europe,3162,21.33,14.93,     NaN         NaN   \n",
            "...                                                 ...     ...         ...   \n",
            "1296                \\nZimbabwe,Africa,13724,40.24,5.68,     NaN         NaN   \n",
            "1297                                               3.64     NaN         NaN   \n",
            "1298                                                NaN    54.0        89.8   \n",
            "1299                                               92.2     NaN         NaN   \n",
            "1300                                              ,,,\\n     NaN         NaN   \n",
            "\n",
            "      Under15  Over60  FertilityRate  LifeExpectancy  ChildMortality  \\\n",
            "0         NaN     NaN            NaN             NaN             NaN   \n",
            "1         NaN     NaN            NaN             NaN             NaN   \n",
            "2       54.26     NaN            NaN             NaN             NaN   \n",
            "3         NaN     NaN            NaN             NaN             NaN   \n",
            "4         NaN     NaN            NaN             NaN             NaN   \n",
            "...       ...     ...            ...             ...             ...   \n",
            "1296      NaN     NaN            NaN             NaN             NaN   \n",
            "1297      NaN     NaN            NaN             NaN             NaN   \n",
            "1298    72.13     NaN            NaN             NaN             NaN   \n",
            "1299      NaN     NaN            NaN             NaN             NaN   \n",
            "1300      NaN     NaN            NaN             NaN             NaN   \n",
            "\n",
            "      CellularSubscribers  LiteracyRate  GNI  PrimarySchoolEnrollmentMale  \\\n",
            "0                     NaN           NaN  NaN                          NaN   \n",
            "1                     NaN           NaN  NaN                          NaN   \n",
            "2                     NaN           NaN  NaN                          NaN   \n",
            "3                     NaN           NaN  NaN                          NaN   \n",
            "4                     NaN           NaN  NaN                          NaN   \n",
            "...                   ...           ...  ...                          ...   \n",
            "1296                  NaN           NaN  NaN                          NaN   \n",
            "1297                  NaN           NaN  NaN                          NaN   \n",
            "1298                  NaN           NaN  NaN                          NaN   \n",
            "1299                  NaN           NaN  NaN                          NaN   \n",
            "1300                  NaN           NaN  NaN                          NaN   \n",
            "\n",
            "      PrimarySchoolEnrollmentFemale  \n",
            "0                               NaN  \n",
            "1                               NaN  \n",
            "2                               NaN  \n",
            "3                               NaN  \n",
            "4                               NaN  \n",
            "...                             ...  \n",
            "1296                            NaN  \n",
            "1297                            NaN  \n",
            "1298                            NaN  \n",
            "1299                            NaN  \n",
            "1300                            NaN  \n",
            "\n",
            "[837 rows x 13 columns]\n"
          ]
        }
      ]
    },
    {
      "cell_type": "code",
      "source": [
        "df_cleaned_cols = df.dropna(axis=1)"
      ],
      "metadata": {
        "id": "rEI25o8AP5by"
      },
      "execution_count": null,
      "outputs": []
    },
    {
      "cell_type": "markdown",
      "source": [
        "I first determined the nature of the dataset, which i found that is completely missing at random. I used a simple imputations methods like mean and median. The data had duplicate rows and i removed them entirely from the dataset.  I chose a method that strikes a balance between prese\n",
        "ving data integrity, addressing missing values or duplicates effectively, and being computationally efficient. This ensures that the resulting dataset is suitable for further analysis while minimizing potential biases or distortions introduced by the handling method"
      ],
      "metadata": {
        "id": "30dQaWKqRJ6R"
      }
    },
    {
      "cell_type": "code",
      "source": [
        "missing_values = df.isnull().sum()\n",
        "\n",
        "print(\"Missing values per column:\")\n",
        "print(missing_values)"
      ],
      "metadata": {
        "colab": {
          "base_uri": "https://localhost:8080/"
        },
        "id": "NPvfRy-Cmtkl",
        "outputId": "761e8c41-02e4-43dd-d680-e6f814b1c966"
      },
      "execution_count": null,
      "outputs": [
        {
          "output_type": "stream",
          "name": "stdout",
          "text": [
            "Missing values per column:\n",
            "Country                          175\n",
            "Region                           663\n",
            "Population                       663\n",
            "Under15                          668\n",
            "Over60                           837\n",
            "FertilityRate                    837\n",
            "LifeExpectancy                   837\n",
            "ChildMortality                   837\n",
            "CellularSubscribers              837\n",
            "LiteracyRate                     837\n",
            "GNI                              837\n",
            "PrimarySchoolEnrollmentMale      837\n",
            "PrimarySchoolEnrollmentFemale    837\n",
            "dtype: int64\n"
          ]
        }
      ]
    },
    {
      "cell_type": "code",
      "source": [
        "total_missing = df.isnull().sum().sum()\n",
        "print(\"Total missing values:\", total_missing)"
      ],
      "metadata": {
        "colab": {
          "base_uri": "https://localhost:8080/"
        },
        "id": "zkhI0avmm-UK",
        "outputId": "53fa5746-f9f5-465f-c66e-d9fed68da2cf"
      },
      "execution_count": null,
      "outputs": [
        {
          "output_type": "stream",
          "name": "stdout",
          "text": [
            "Total missing values: 9702\n"
          ]
        }
      ]
    },
    {
      "cell_type": "code",
      "source": [
        "df.dropna(inplace=True)"
      ],
      "metadata": {
        "id": "mqZ-59aPnRza"
      },
      "execution_count": null,
      "outputs": []
    },
    {
      "cell_type": "code",
      "source": [
        "duplicate_rows = df[df.duplicated()]"
      ],
      "metadata": {
        "id": "JHwUQBtZnwJs"
      },
      "execution_count": null,
      "outputs": []
    },
    {
      "cell_type": "code",
      "source": [
        "df.drop_duplicates(inplace=True)"
      ],
      "metadata": {
        "colab": {
          "base_uri": "https://localhost:8080/",
          "height": 53
        },
        "id": "BQW63FgEn4PR",
        "outputId": "e75e64e9-b736-40a1-eeb0-345f880acc86"
      },
      "execution_count": null,
      "outputs": [
        {
          "output_type": "execute_result",
          "data": {
            "text/plain": [
              "Empty DataFrame\n",
              "Columns: [Country, Region, Population, Under15, Over60, FertilityRate, LifeExpectancy, ChildMortality, CellularSubscribers, LiteracyRate, GNI, PrimarySchoolEnrollmentMale, PrimarySchoolEnrollmentFemale]\n",
              "Index: []"
            ],
            "text/html": [
              "\n",
              "  <div id=\"df-fed11da4-030d-4d91-85de-b2b31f0270c7\" class=\"colab-df-container\">\n",
              "    <div>\n",
              "<style scoped>\n",
              "    .dataframe tbody tr th:only-of-type {\n",
              "        vertical-align: middle;\n",
              "    }\n",
              "\n",
              "    .dataframe tbody tr th {\n",
              "        vertical-align: top;\n",
              "    }\n",
              "\n",
              "    .dataframe thead th {\n",
              "        text-align: right;\n",
              "    }\n",
              "</style>\n",
              "<table border=\"1\" class=\"dataframe\">\n",
              "  <thead>\n",
              "    <tr style=\"text-align: right;\">\n",
              "      <th></th>\n",
              "      <th>Country</th>\n",
              "      <th>Region</th>\n",
              "      <th>Population</th>\n",
              "      <th>Under15</th>\n",
              "      <th>Over60</th>\n",
              "      <th>FertilityRate</th>\n",
              "      <th>LifeExpectancy</th>\n",
              "      <th>ChildMortality</th>\n",
              "      <th>CellularSubscribers</th>\n",
              "      <th>LiteracyRate</th>\n",
              "      <th>GNI</th>\n",
              "      <th>PrimarySchoolEnrollmentMale</th>\n",
              "      <th>PrimarySchoolEnrollmentFemale</th>\n",
              "    </tr>\n",
              "  </thead>\n",
              "  <tbody>\n",
              "  </tbody>\n",
              "</table>\n",
              "</div>\n",
              "    <div class=\"colab-df-buttons\">\n",
              "\n",
              "  <div class=\"colab-df-container\">\n",
              "    <button class=\"colab-df-convert\" onclick=\"convertToInteractive('df-fed11da4-030d-4d91-85de-b2b31f0270c7')\"\n",
              "            title=\"Convert this dataframe to an interactive table.\"\n",
              "            style=\"display:none;\">\n",
              "\n",
              "  <svg xmlns=\"http://www.w3.org/2000/svg\" height=\"24px\" viewBox=\"0 -960 960 960\">\n",
              "    <path d=\"M120-120v-720h720v720H120Zm60-500h600v-160H180v160Zm220 220h160v-160H400v160Zm0 220h160v-160H400v160ZM180-400h160v-160H180v160Zm440 0h160v-160H620v160ZM180-180h160v-160H180v160Zm440 0h160v-160H620v160Z\"/>\n",
              "  </svg>\n",
              "    </button>\n",
              "\n",
              "  <style>\n",
              "    .colab-df-container {\n",
              "      display:flex;\n",
              "      gap: 12px;\n",
              "    }\n",
              "\n",
              "    .colab-df-convert {\n",
              "      background-color: #E8F0FE;\n",
              "      border: none;\n",
              "      border-radius: 50%;\n",
              "      cursor: pointer;\n",
              "      display: none;\n",
              "      fill: #1967D2;\n",
              "      height: 32px;\n",
              "      padding: 0 0 0 0;\n",
              "      width: 32px;\n",
              "    }\n",
              "\n",
              "    .colab-df-convert:hover {\n",
              "      background-color: #E2EBFA;\n",
              "      box-shadow: 0px 1px 2px rgba(60, 64, 67, 0.3), 0px 1px 3px 1px rgba(60, 64, 67, 0.15);\n",
              "      fill: #174EA6;\n",
              "    }\n",
              "\n",
              "    .colab-df-buttons div {\n",
              "      margin-bottom: 4px;\n",
              "    }\n",
              "\n",
              "    [theme=dark] .colab-df-convert {\n",
              "      background-color: #3B4455;\n",
              "      fill: #D2E3FC;\n",
              "    }\n",
              "\n",
              "    [theme=dark] .colab-df-convert:hover {\n",
              "      background-color: #434B5C;\n",
              "      box-shadow: 0px 1px 3px 1px rgba(0, 0, 0, 0.15);\n",
              "      filter: drop-shadow(0px 1px 2px rgba(0, 0, 0, 0.3));\n",
              "      fill: #FFFFFF;\n",
              "    }\n",
              "  </style>\n",
              "\n",
              "    <script>\n",
              "      const buttonEl =\n",
              "        document.querySelector('#df-fed11da4-030d-4d91-85de-b2b31f0270c7 button.colab-df-convert');\n",
              "      buttonEl.style.display =\n",
              "        google.colab.kernel.accessAllowed ? 'block' : 'none';\n",
              "\n",
              "      async function convertToInteractive(key) {\n",
              "        const element = document.querySelector('#df-fed11da4-030d-4d91-85de-b2b31f0270c7');\n",
              "        const dataTable =\n",
              "          await google.colab.kernel.invokeFunction('convertToInteractive',\n",
              "                                                    [key], {});\n",
              "        if (!dataTable) return;\n",
              "\n",
              "        const docLinkHtml = 'Like what you see? Visit the ' +\n",
              "          '<a target=\"_blank\" href=https://colab.research.google.com/notebooks/data_table.ipynb>data table notebook</a>'\n",
              "          + ' to learn more about interactive tables.';\n",
              "        element.innerHTML = '';\n",
              "        dataTable['output_type'] = 'display_data';\n",
              "        await google.colab.output.renderOutput(dataTable, element);\n",
              "        const docLink = document.createElement('div');\n",
              "        docLink.innerHTML = docLinkHtml;\n",
              "        element.appendChild(docLink);\n",
              "      }\n",
              "    </script>\n",
              "  </div>\n",
              "\n",
              "\n",
              "    </div>\n",
              "  </div>\n"
            ],
            "application/vnd.google.colaboratory.intrinsic+json": {
              "type": "dataframe",
              "repr_error": "Out of range float values are not JSON compliant: nan"
            }
          },
          "metadata": {},
          "execution_count": 32
        }
      ]
    },
    {
      "cell_type": "code",
      "source": [
        "duplicate_rows = df[df.duplicated(subset=['column1', 'column2'])]"
      ],
      "metadata": {
        "id": "Xf8Abom8oXIK"
      },
      "execution_count": null,
      "outputs": []
    },
    {
      "cell_type": "code",
      "source": [
        "print(\"Duplicate Rows:\")\n",
        "print(duplicate_rows)"
      ],
      "metadata": {
        "colab": {
          "base_uri": "https://localhost:8080/"
        },
        "id": "QAhhgFKZohsN",
        "outputId": "26e0562a-16c3-4e56-ad12-3ff895cb6333"
      },
      "execution_count": null,
      "outputs": [
        {
          "output_type": "stream",
          "name": "stdout",
          "text": [
            "Duplicate Rows:\n",
            "Empty DataFrame\n",
            "Columns: [Country, Region, Population, Under15, Over60, FertilityRate, LifeExpectancy, ChildMortality, CellularSubscribers, LiteracyRate, GNI, PrimarySchoolEnrollmentMale, PrimarySchoolEnrollmentFemale]\n",
            "Index: []\n"
          ]
        }
      ]
    },
    {
      "cell_type": "code",
      "source": [
        "for column in df.columns:\n",
        "    print(column, df[column].unique())\n"
      ],
      "metadata": {
        "colab": {
          "base_uri": "https://localhost:8080/"
        },
        "id": "FjwzjODmpOe2",
        "outputId": "660ee566-6a75-4e1e-abf6-380b9d3d01e4"
      },
      "execution_count": null,
      "outputs": [
        {
          "output_type": "stream",
          "name": "stdout",
          "text": [
            "Country []\n",
            "Region []\n",
            "Population []\n",
            "Under15 []\n",
            "Over60 []\n",
            "FertilityRate []\n",
            "LifeExpectancy []\n",
            "ChildMortality []\n",
            "CellularSubscribers []\n",
            "LiteracyRate []\n",
            "GNI []\n",
            "PrimarySchoolEnrollmentMale []\n",
            "PrimarySchoolEnrollmentFemale []\n"
          ]
        }
      ]
    },
    {
      "cell_type": "code",
      "source": [
        "cleaned_df = original_df.dropna(axis=0)"
      ],
      "metadata": {
        "colab": {
          "base_uri": "https://localhost:8080/",
          "height": 144
        },
        "id": "dH_TPIDHr4Iq",
        "outputId": "344d7105-0a0b-412f-c104-8f1119d88f3e"
      },
      "execution_count": null,
      "outputs": [
        {
          "output_type": "error",
          "ename": "NameError",
          "evalue": "name 'original_df' is not defined",
          "traceback": [
            "\u001b[0;31m---------------------------------------------------------------------------\u001b[0m",
            "\u001b[0;31mNameError\u001b[0m                                 Traceback (most recent call last)",
            "\u001b[0;32m<ipython-input-37-6681130f8990>\u001b[0m in \u001b[0;36m<cell line: 1>\u001b[0;34m()\u001b[0m\n\u001b[0;32m----> 1\u001b[0;31m \u001b[0mcleaned_df\u001b[0m \u001b[0;34m=\u001b[0m \u001b[0moriginal_df\u001b[0m\u001b[0;34m.\u001b[0m\u001b[0mdropna\u001b[0m\u001b[0;34m(\u001b[0m\u001b[0maxis\u001b[0m\u001b[0;34m=\u001b[0m\u001b[0;36m0\u001b[0m\u001b[0;34m)\u001b[0m\u001b[0;34m\u001b[0m\u001b[0;34m\u001b[0m\u001b[0m\n\u001b[0m",
            "\u001b[0;31mNameError\u001b[0m: name 'original_df' is not defined"
          ]
        }
      ]
    },
    {
      "cell_type": "code",
      "source": [
        "cleaned_df = original_df.dropna(axis=1)"
      ],
      "metadata": {
        "colab": {
          "base_uri": "https://localhost:8080/",
          "height": 144
        },
        "id": "kwYXKoJ5sCgO",
        "outputId": "c4dc48d2-29ec-4975-c18c-9bc918e53fb0"
      },
      "execution_count": null,
      "outputs": [
        {
          "output_type": "error",
          "ename": "NameError",
          "evalue": "name 'original_df' is not defined",
          "traceback": [
            "\u001b[0;31m---------------------------------------------------------------------------\u001b[0m",
            "\u001b[0;31mNameError\u001b[0m                                 Traceback (most recent call last)",
            "\u001b[0;32m<ipython-input-38-96cd32f27f30>\u001b[0m in \u001b[0;36m<cell line: 1>\u001b[0;34m()\u001b[0m\n\u001b[0;32m----> 1\u001b[0;31m \u001b[0mcleaned_df\u001b[0m \u001b[0;34m=\u001b[0m \u001b[0moriginal_df\u001b[0m\u001b[0;34m.\u001b[0m\u001b[0mdropna\u001b[0m\u001b[0;34m(\u001b[0m\u001b[0maxis\u001b[0m\u001b[0;34m=\u001b[0m\u001b[0;36m1\u001b[0m\u001b[0;34m)\u001b[0m\u001b[0;34m\u001b[0m\u001b[0;34m\u001b[0m\u001b[0m\n\u001b[0m",
            "\u001b[0;31mNameError\u001b[0m: name 'original_df' is not defined"
          ]
        }
      ]
    },
    {
      "cell_type": "code",
      "source": [
        "original_df = pd.read_csv(\"data.csv\")"
      ],
      "metadata": {
        "id": "f9_xdW9usO02"
      },
      "execution_count": null,
      "outputs": []
    },
    {
      "cell_type": "code",
      "source": [
        "cleaned_df = original_df.dropna(axis=1)"
      ],
      "metadata": {
        "id": "lab0XqVUsVef"
      },
      "execution_count": null,
      "outputs": []
    },
    {
      "cell_type": "code",
      "source": [
        "print(df)"
      ],
      "metadata": {
        "colab": {
          "base_uri": "https://localhost:8080/"
        },
        "id": "i2-c_ABPsZTE",
        "outputId": "2d6d4bc4-7d63-4826-8daa-19b271633f57"
      },
      "execution_count": null,
      "outputs": [
        {
          "output_type": "stream",
          "name": "stdout",
          "text": [
            "Empty DataFrame\n",
            "Columns: [Country, Region, Population, Under15, Over60, FertilityRate, LifeExpectancy, ChildMortality, CellularSubscribers, LiteracyRate, GNI, PrimarySchoolEnrollmentMale, PrimarySchoolEnrollmentFemale]\n",
            "Index: []\n"
          ]
        }
      ]
    },
    {
      "cell_type": "code",
      "source": [
        "data_types = original_df.dtypes\n",
        "print(data_types)"
      ],
      "metadata": {
        "colab": {
          "base_uri": "https://localhost:8080/"
        },
        "id": "MXRAkyozsrsL",
        "outputId": "c5c6615d-9641-4545-e8f7-960ed9f618fa"
      },
      "execution_count": null,
      "outputs": [
        {
          "output_type": "stream",
          "name": "stdout",
          "text": [
            "Country                           object\n",
            "Region                           float64\n",
            "Population                       float64\n",
            "Under15                          float64\n",
            "Over60                           float64\n",
            "FertilityRate                    float64\n",
            "LifeExpectancy                   float64\n",
            "ChildMortality                   float64\n",
            "CellularSubscribers              float64\n",
            "LiteracyRate                     float64\n",
            "GNI                              float64\n",
            "PrimarySchoolEnrollmentMale      float64\n",
            "PrimarySchoolEnrollmentFemale    float64\n",
            "dtype: object\n"
          ]
        }
      ]
    },
    {
      "cell_type": "code",
      "source": [
        "observed_data_types = df.dtypes\n",
        "expected_data_types = {\n",
        "    'column1': 'expected_type1',\n",
        "    'column2': 'expected_type2',\n",
        "    'column3': 'expected_type3',\n",
        "    'column4': 'expected_type4',\n",
        "    'column5': 'expected_type5',\n",
        "    'column6': 'expected_type6',\n",
        "    'column7': 'expected_type7',\n",
        "    'column8': 'expected_type8',\n",
        "    'column9': 'expected_type9',\n",
        "    'column10': 'expected_type10',\n",
        "    'column11': 'expected_type11',\n",
        "    'column12': 'expected_type12',\n",
        "}\n",
        "mismatched_columns = []\n",
        "for column, observed_type in observed_data_types.items():\n",
        "    expected_type = expected_data_types.get(column)\n",
        "    if expected_type and observed_type != expected_type:\n",
        "        mismatched_columns.append((column, observed_type, expected_type))\n",
        "if mismatched_columns:\n",
        "    print(\"Mismatched columns:\")\n",
        "    for column, observed_type, expected_type in mismatched_columns:\n",
        "        print(f\"Column: {column}, Observed type: {observed_type}, Expected type: {expected_type}\")\n",
        "else:\n",
        "    print(\"No mismatched columns found.\")"
      ],
      "metadata": {
        "colab": {
          "base_uri": "https://localhost:8080/"
        },
        "id": "IrEZAeQfucyf",
        "outputId": "198e696c-8138-415a-9fcd-3bdf01da9af4"
      },
      "execution_count": null,
      "outputs": [
        {
          "output_type": "stream",
          "name": "stdout",
          "text": [
            "No mismatched columns found.\n"
          ]
        }
      ]
    },
    {
      "cell_type": "code",
      "source": [
        "missing_values = df.isnull().sum()\n",
        "if missing_values.sum() == 0:\n",
        "    print(\"No missing values remaining.\")\n",
        "else:\n",
        "    print(\"Missing values still exist in the dataset.\")\n",
        "    print(\"Number of missing values per column:\")\n",
        "    print(missing_values)"
      ],
      "metadata": {
        "colab": {
          "base_uri": "https://localhost:8080/"
        },
        "id": "dRAnPDq_zrod",
        "outputId": "624632ad-4046-4f25-ff29-faf74634873a"
      },
      "execution_count": null,
      "outputs": [
        {
          "output_type": "stream",
          "name": "stdout",
          "text": [
            "No missing values remaining.\n"
          ]
        }
      ]
    },
    {
      "cell_type": "code",
      "source": [
        "health_and_demographics_df = df.copy()"
      ],
      "metadata": {
        "id": "_vEpYEcpz-as"
      },
      "execution_count": null,
      "outputs": []
    },
    {
      "cell_type": "code",
      "source": [
        "print(health_and_demographics_df.columns)\n"
      ],
      "metadata": {
        "colab": {
          "base_uri": "https://localhost:8080/"
        },
        "id": "BiXqpq2w0QzE",
        "outputId": "18fb1b75-7d7e-4f11-b0ca-2be587ff34b3"
      },
      "execution_count": null,
      "outputs": [
        {
          "output_type": "stream",
          "name": "stdout",
          "text": [
            "Index(['Country', 'Region', 'Population', 'Under15', 'Over60', 'FertilityRate',\n",
            "       'LifeExpectancy', 'ChildMortality', 'CellularSubscribers',\n",
            "       'LiteracyRate', 'GNI', 'PrimarySchoolEnrollmentMale',\n",
            "       'PrimarySchoolEnrollmentFemale'],\n",
            "      dtype='object')\n"
          ]
        }
      ]
    },
    {
      "cell_type": "code",
      "source": [
        "country_with_lowest_population_percentage_under_15 = health_and_demographics_df['Population'].idxmin()\n",
        "print(\"Country with the lowest population percentage under 15:\", country_with_lowest_population_percentage_under_15)\n"
      ],
      "metadata": {
        "colab": {
          "base_uri": "https://localhost:8080/",
          "height": 311
        },
        "id": "7gMnBI5E0nlD",
        "outputId": "424e4517-ed28-46b2-97cc-e9aea8d67c03"
      },
      "execution_count": null,
      "outputs": [
        {
          "output_type": "error",
          "ename": "ValueError",
          "evalue": "attempt to get argmin of an empty sequence",
          "traceback": [
            "\u001b[0;31m---------------------------------------------------------------------------\u001b[0m",
            "\u001b[0;31mValueError\u001b[0m                                Traceback (most recent call last)",
            "\u001b[0;32m<ipython-input-63-97f1db827609>\u001b[0m in \u001b[0;36m<cell line: 1>\u001b[0;34m()\u001b[0m\n\u001b[0;32m----> 1\u001b[0;31m \u001b[0mcountry_with_lowest_population_percentage_under_15\u001b[0m \u001b[0;34m=\u001b[0m \u001b[0mhealth_and_demographics_df\u001b[0m\u001b[0;34m[\u001b[0m\u001b[0;34m'Population'\u001b[0m\u001b[0;34m]\u001b[0m\u001b[0;34m.\u001b[0m\u001b[0midxmin\u001b[0m\u001b[0;34m(\u001b[0m\u001b[0;34m)\u001b[0m\u001b[0;34m\u001b[0m\u001b[0;34m\u001b[0m\u001b[0m\n\u001b[0m\u001b[1;32m      2\u001b[0m \u001b[0mprint\u001b[0m\u001b[0;34m(\u001b[0m\u001b[0;34m\"Country with the lowest population percentage under 15:\"\u001b[0m\u001b[0;34m,\u001b[0m \u001b[0mcountry_with_lowest_population_percentage_under_15\u001b[0m\u001b[0;34m)\u001b[0m\u001b[0;34m\u001b[0m\u001b[0;34m\u001b[0m\u001b[0m\n",
            "\u001b[0;32m/usr/local/lib/python3.10/dist-packages/pandas/core/series.py\u001b[0m in \u001b[0;36midxmin\u001b[0;34m(self, axis, skipna, *args, **kwargs)\u001b[0m\n\u001b[1;32m   2493\u001b[0m         \u001b[0mnan\u001b[0m\u001b[0;34m\u001b[0m\u001b[0;34m\u001b[0m\u001b[0m\n\u001b[1;32m   2494\u001b[0m         \"\"\"\n\u001b[0;32m-> 2495\u001b[0;31m         \u001b[0mi\u001b[0m \u001b[0;34m=\u001b[0m \u001b[0mself\u001b[0m\u001b[0;34m.\u001b[0m\u001b[0margmin\u001b[0m\u001b[0;34m(\u001b[0m\u001b[0maxis\u001b[0m\u001b[0;34m,\u001b[0m \u001b[0mskipna\u001b[0m\u001b[0;34m,\u001b[0m \u001b[0;34m*\u001b[0m\u001b[0margs\u001b[0m\u001b[0;34m,\u001b[0m \u001b[0;34m**\u001b[0m\u001b[0mkwargs\u001b[0m\u001b[0;34m)\u001b[0m\u001b[0;34m\u001b[0m\u001b[0;34m\u001b[0m\u001b[0m\n\u001b[0m\u001b[1;32m   2496\u001b[0m         \u001b[0;32mif\u001b[0m \u001b[0mi\u001b[0m \u001b[0;34m==\u001b[0m \u001b[0;34m-\u001b[0m\u001b[0;36m1\u001b[0m\u001b[0;34m:\u001b[0m\u001b[0;34m\u001b[0m\u001b[0;34m\u001b[0m\u001b[0m\n\u001b[1;32m   2497\u001b[0m             \u001b[0;32mreturn\u001b[0m \u001b[0mnp\u001b[0m\u001b[0;34m.\u001b[0m\u001b[0mnan\u001b[0m\u001b[0;34m\u001b[0m\u001b[0;34m\u001b[0m\u001b[0m\n",
            "\u001b[0;32m/usr/local/lib/python3.10/dist-packages/pandas/core/base.py\u001b[0m in \u001b[0;36margmin\u001b[0;34m(self, axis, skipna, *args, **kwargs)\u001b[0m\n\u001b[1;32m    715\u001b[0m             \u001b[0;31m# error: Incompatible return value type (got \"Union[int, ndarray]\", expected\u001b[0m\u001b[0;34m\u001b[0m\u001b[0;34m\u001b[0m\u001b[0m\n\u001b[1;32m    716\u001b[0m             \u001b[0;31m# \"int\")\u001b[0m\u001b[0;34m\u001b[0m\u001b[0;34m\u001b[0m\u001b[0m\n\u001b[0;32m--> 717\u001b[0;31m             return nanops.nanargmin(  # type: ignore[return-value]\n\u001b[0m\u001b[1;32m    718\u001b[0m                 \u001b[0mdelegate\u001b[0m\u001b[0;34m,\u001b[0m \u001b[0mskipna\u001b[0m\u001b[0;34m=\u001b[0m\u001b[0mskipna\u001b[0m\u001b[0;34m\u001b[0m\u001b[0;34m\u001b[0m\u001b[0m\n\u001b[1;32m    719\u001b[0m             )\n",
            "\u001b[0;32m/usr/local/lib/python3.10/dist-packages/pandas/core/nanops.py\u001b[0m in \u001b[0;36m_f\u001b[0;34m(*args, **kwargs)\u001b[0m\n\u001b[1;32m     91\u001b[0m             \u001b[0;32mtry\u001b[0m\u001b[0;34m:\u001b[0m\u001b[0;34m\u001b[0m\u001b[0;34m\u001b[0m\u001b[0m\n\u001b[1;32m     92\u001b[0m                 \u001b[0;32mwith\u001b[0m \u001b[0mnp\u001b[0m\u001b[0;34m.\u001b[0m\u001b[0merrstate\u001b[0m\u001b[0;34m(\u001b[0m\u001b[0minvalid\u001b[0m\u001b[0;34m=\u001b[0m\u001b[0;34m\"ignore\"\u001b[0m\u001b[0;34m)\u001b[0m\u001b[0;34m:\u001b[0m\u001b[0;34m\u001b[0m\u001b[0;34m\u001b[0m\u001b[0m\n\u001b[0;32m---> 93\u001b[0;31m                     \u001b[0;32mreturn\u001b[0m \u001b[0mf\u001b[0m\u001b[0;34m(\u001b[0m\u001b[0;34m*\u001b[0m\u001b[0margs\u001b[0m\u001b[0;34m,\u001b[0m \u001b[0;34m**\u001b[0m\u001b[0mkwargs\u001b[0m\u001b[0;34m)\u001b[0m\u001b[0;34m\u001b[0m\u001b[0;34m\u001b[0m\u001b[0m\n\u001b[0m\u001b[1;32m     94\u001b[0m             \u001b[0;32mexcept\u001b[0m \u001b[0mValueError\u001b[0m \u001b[0;32mas\u001b[0m \u001b[0me\u001b[0m\u001b[0;34m:\u001b[0m\u001b[0;34m\u001b[0m\u001b[0;34m\u001b[0m\u001b[0m\n\u001b[1;32m     95\u001b[0m                 \u001b[0;31m# we want to transform an object array\u001b[0m\u001b[0;34m\u001b[0m\u001b[0;34m\u001b[0m\u001b[0m\n",
            "\u001b[0;32m/usr/local/lib/python3.10/dist-packages/pandas/core/nanops.py\u001b[0m in \u001b[0;36mnanargmin\u001b[0;34m(values, axis, skipna, mask)\u001b[0m\n\u001b[1;32m   1148\u001b[0m     \u001b[0mvalues\u001b[0m\u001b[0;34m,\u001b[0m \u001b[0mmask\u001b[0m\u001b[0;34m,\u001b[0m \u001b[0m_\u001b[0m\u001b[0;34m,\u001b[0m \u001b[0m_\u001b[0m\u001b[0;34m,\u001b[0m \u001b[0m_\u001b[0m \u001b[0;34m=\u001b[0m \u001b[0m_get_values\u001b[0m\u001b[0;34m(\u001b[0m\u001b[0mvalues\u001b[0m\u001b[0;34m,\u001b[0m \u001b[0;32mTrue\u001b[0m\u001b[0;34m,\u001b[0m \u001b[0mfill_value_typ\u001b[0m\u001b[0;34m=\u001b[0m\u001b[0;34m\"+inf\"\u001b[0m\u001b[0;34m,\u001b[0m \u001b[0mmask\u001b[0m\u001b[0;34m=\u001b[0m\u001b[0mmask\u001b[0m\u001b[0;34m)\u001b[0m\u001b[0;34m\u001b[0m\u001b[0;34m\u001b[0m\u001b[0m\n\u001b[1;32m   1149\u001b[0m     \u001b[0;31m# error: Need type annotation for 'result'\u001b[0m\u001b[0;34m\u001b[0m\u001b[0;34m\u001b[0m\u001b[0m\n\u001b[0;32m-> 1150\u001b[0;31m     \u001b[0mresult\u001b[0m \u001b[0;34m=\u001b[0m \u001b[0mvalues\u001b[0m\u001b[0;34m.\u001b[0m\u001b[0margmin\u001b[0m\u001b[0;34m(\u001b[0m\u001b[0maxis\u001b[0m\u001b[0;34m)\u001b[0m  \u001b[0;31m# type: ignore[var-annotated]\u001b[0m\u001b[0;34m\u001b[0m\u001b[0;34m\u001b[0m\u001b[0m\n\u001b[0m\u001b[1;32m   1151\u001b[0m     \u001b[0mresult\u001b[0m \u001b[0;34m=\u001b[0m \u001b[0m_maybe_arg_null_out\u001b[0m\u001b[0;34m(\u001b[0m\u001b[0mresult\u001b[0m\u001b[0;34m,\u001b[0m \u001b[0maxis\u001b[0m\u001b[0;34m,\u001b[0m \u001b[0mmask\u001b[0m\u001b[0;34m,\u001b[0m \u001b[0mskipna\u001b[0m\u001b[0;34m)\u001b[0m\u001b[0;34m\u001b[0m\u001b[0;34m\u001b[0m\u001b[0m\n\u001b[1;32m   1152\u001b[0m     \u001b[0;32mreturn\u001b[0m \u001b[0mresult\u001b[0m\u001b[0;34m\u001b[0m\u001b[0;34m\u001b[0m\u001b[0m\n",
            "\u001b[0;31mValueError\u001b[0m: attempt to get argmin of an empty sequence"
          ]
        }
      ]
    }
  ]
}