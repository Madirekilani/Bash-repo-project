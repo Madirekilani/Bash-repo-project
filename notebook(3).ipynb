{
  "cells": [
    {
      "cell_type": "markdown",
      "metadata": {
        "id": "view-in-github",
        "colab_type": "text"
      },
      "source": [
        "<a href=\"https://colab.research.google.com/github/Madirekilani/Bash-repo-project/blob/main/notebook(3).ipynb\" target=\"_parent\"><img src=\"https://colab.research.google.com/assets/colab-badge.svg\" alt=\"Open In Colab\"/></a>"
      ]
    },
    {
      "cell_type": "markdown",
      "id": "novel-british",
      "metadata": {
        "id": "novel-british"
      },
      "source": [
        "# Instructions\n",
        "\n",
        "Answer the questions and perform any additional analysis you think will help you understand what's going on in the data. You will be required to present your work, you can use this notebook or create slides based on your analysis. Whatever you’re comfortable with is fine with us.\n",
        "\n",
        "The section headings below are only a guide and this notebook should be modified as you see fit."
      ]
    },
    {
      "cell_type": "markdown",
      "id": "material-peripheral",
      "metadata": {
        "id": "material-peripheral"
      },
      "source": [
        "# 1. Data processing"
      ]
    },
    {
      "cell_type": "code",
      "execution_count": null,
      "metadata": {
        "colab": {
          "base_uri": "https://localhost:8080/"
        },
        "id": "zty5n4ZBE2N_",
        "outputId": "4b3ba1a5-9d31-4c43-f8d4-5d10e6fb5d9a"
      },
      "outputs": [
        {
          "output_type": "stream",
          "name": "stdout",
          "text": [
            "Missing values per feature:\n",
            "Country                           462\n",
            "Region                           1127\n",
            "Population                       1127\n",
            "Under15                          1132\n",
            "Over60                           1301\n",
            "FertilityRate                    1301\n",
            "LifeExpectancy                   1301\n",
            "ChildMortality                   1301\n",
            "CellularSubscribers              1301\n",
            "LiteracyRate                     1301\n",
            "GNI                              1301\n",
            "PrimarySchoolEnrollmentMale      1301\n",
            "PrimarySchoolEnrollmentFemale    1301\n",
            "dtype: int64\n"
          ]
        }
      ],
      "source": [
        "import pandas as pd\n",
        "df = pd.read_csv('data.csv')\n",
        "missing_values_per_feature = df.isnull().sum()\n",
        "\n",
        "print(\"Missing values per feature:\")\n",
        "print(missing_values_per_feature)"
      ],
      "id": "zty5n4ZBE2N_"
    },
    {
      "cell_type": "markdown",
      "id": "cheap-navigation",
      "metadata": {
        "id": "cheap-navigation"
      },
      "source": [
        "# 2. Exploratory data analysis"
      ]
    },
    {
      "cell_type": "code",
      "execution_count": null,
      "id": "grateful-blend",
      "metadata": {
        "id": "grateful-blend"
      },
      "outputs": [],
      "source": []
    },
    {
      "cell_type": "markdown",
      "id": "interpreted-hurricane",
      "metadata": {
        "id": "interpreted-hurricane"
      },
      "source": [
        "# 3. Conclusion and insights"
      ]
    },
    {
      "cell_type": "code",
      "execution_count": null,
      "id": "actual-marketplace",
      "metadata": {
        "id": "actual-marketplace"
      },
      "outputs": [],
      "source": []
    }
  ],
  "metadata": {
    "kernelspec": {
      "display_name": "Python 3",
      "language": "python",
      "name": "python3"
    },
    "language_info": {
      "codemirror_mode": {
        "name": "ipython",
        "version": 3
      },
      "file_extension": ".py",
      "mimetype": "text/x-python",
      "name": "python",
      "nbconvert_exporter": "python",
      "pygments_lexer": "ipython3",
      "version": "3.8.5"
    },
    "colab": {
      "provenance": [],
      "toc_visible": true,
      "include_colab_link": true
    }
  },
  "nbformat": 4,
  "nbformat_minor": 5
}