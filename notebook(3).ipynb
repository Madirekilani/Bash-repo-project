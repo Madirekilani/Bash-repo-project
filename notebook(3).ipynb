{
  "cells": [
    {
      "cell_type": "markdown",
      "metadata": {
        "id": "view-in-github",
        "colab_type": "text"
      },
      "source": [
        "<a href=\"https://colab.research.google.com/github/Madirekilani/Bash-repo-project/blob/main/notebook(3).ipynb\" target=\"_parent\"><img src=\"https://colab.research.google.com/assets/colab-badge.svg\" alt=\"Open In Colab\"/></a>"
      ]
    },
    {
      "cell_type": "markdown",
      "id": "novel-british",
      "metadata": {
        "id": "novel-british"
      },
      "source": [
        "# Instructions\n",
        "\n",
        "Answer the questions and perform any additional analysis you think will help you understand what's going on in the data. You will be required to present your work, you can use this notebook or create slides based on your analysis. Whatever you’re comfortable with is fine with us.\n",
        "\n",
        "The section headings below are only a guide and this notebook should be modified as you see fit."
      ]
    },
    {
      "cell_type": "markdown",
      "id": "material-peripheral",
      "metadata": {
        "id": "material-peripheral"
      },
      "source": [
        "# 1. Data processing"
      ]
    },
    {
      "cell_type": "code",
      "source": [
        "import pandas as pd\n"
      ],
      "metadata": {
        "id": "pv1EkWbqh3sX"
      },
      "id": "pv1EkWbqh3sX",
      "execution_count": null,
      "outputs": []
    },
    {
      "cell_type": "code",
      "execution_count": 7,
      "metadata": {
        "colab": {
          "base_uri": "https://localhost:8080/"
        },
        "id": "zty5n4ZBE2N_",
        "outputId": "419f4361-4e1c-4dbe-d72d-e30c5b5e1944"
      },
      "outputs": [
        {
          "output_type": "stream",
          "name": "stdout",
          "text": [
            "Missing values per feature:\n",
            "Country                           462\n",
            "Region                           1127\n",
            "Population                       1127\n",
            "Under15                          1132\n",
            "Over60                           1301\n",
            "FertilityRate                    1301\n",
            "LifeExpectancy                   1301\n",
            "ChildMortality                   1301\n",
            "CellularSubscribers              1301\n",
            "LiteracyRate                     1301\n",
            "GNI                              1301\n",
            "PrimarySchoolEnrollmentMale      1301\n",
            "PrimarySchoolEnrollmentFemale    1301\n",
            "dtype: int64\n"
          ]
        }
      ],
      "source": [
        "import pandas as pd\n",
        "df = pd.read_csv('data.csv')\n",
        "missing_values_per_feature = df.isnull().sum()\n",
        "\n",
        "print(\"Missing values per feature:\")\n",
        "print(missing_values_per_feature)"
      ],
      "id": "zty5n4ZBE2N_"
    },
    {
      "cell_type": "markdown",
      "id": "cheap-navigation",
      "metadata": {
        "id": "cheap-navigation"
      },
      "source": [
        "# 2. Exploratory data analysis"
      ]
    },
    {
      "cell_type": "code",
      "source": [
        "print(df)"
      ],
      "metadata": {
        "colab": {
          "base_uri": "https://localhost:8080/"
        },
        "id": "YSQ3IkfjkL5n",
        "outputId": "facde4e8-a405-45a7-e97f-1c34d29f4192"
      },
      "id": "YSQ3IkfjkL5n",
      "execution_count": 8,
      "outputs": [
        {
          "output_type": "stream",
          "name": "stdout",
          "text": [
            "                                                Country  Region  Population  \\\n",
            "0     Afghanistan,Eastern Mediterranean,29825,47.42,...     NaN         NaN   \n",
            "1                                                   5.4     NaN         NaN   \n",
            "2                                                   NaN    60.0        98.5   \n",
            "3                                                  1140     NaN         NaN   \n",
            "4                  ,,\\nAlbania,Europe,3162,21.33,14.93,     NaN         NaN   \n",
            "...                                                 ...     ...         ...   \n",
            "1296                \\nZimbabwe,Africa,13724,40.24,5.68,     NaN         NaN   \n",
            "1297                                               3.64     NaN         NaN   \n",
            "1298                                                NaN    54.0        89.8   \n",
            "1299                                               92.2     NaN         NaN   \n",
            "1300                                              ,,,\\n     NaN         NaN   \n",
            "\n",
            "      Under15  Over60  FertilityRate  LifeExpectancy  ChildMortality  \\\n",
            "0         NaN     NaN            NaN             NaN             NaN   \n",
            "1         NaN     NaN            NaN             NaN             NaN   \n",
            "2       54.26     NaN            NaN             NaN             NaN   \n",
            "3         NaN     NaN            NaN             NaN             NaN   \n",
            "4         NaN     NaN            NaN             NaN             NaN   \n",
            "...       ...     ...            ...             ...             ...   \n",
            "1296      NaN     NaN            NaN             NaN             NaN   \n",
            "1297      NaN     NaN            NaN             NaN             NaN   \n",
            "1298    72.13     NaN            NaN             NaN             NaN   \n",
            "1299      NaN     NaN            NaN             NaN             NaN   \n",
            "1300      NaN     NaN            NaN             NaN             NaN   \n",
            "\n",
            "      CellularSubscribers  LiteracyRate  GNI  PrimarySchoolEnrollmentMale  \\\n",
            "0                     NaN           NaN  NaN                          NaN   \n",
            "1                     NaN           NaN  NaN                          NaN   \n",
            "2                     NaN           NaN  NaN                          NaN   \n",
            "3                     NaN           NaN  NaN                          NaN   \n",
            "4                     NaN           NaN  NaN                          NaN   \n",
            "...                   ...           ...  ...                          ...   \n",
            "1296                  NaN           NaN  NaN                          NaN   \n",
            "1297                  NaN           NaN  NaN                          NaN   \n",
            "1298                  NaN           NaN  NaN                          NaN   \n",
            "1299                  NaN           NaN  NaN                          NaN   \n",
            "1300                  NaN           NaN  NaN                          NaN   \n",
            "\n",
            "      PrimarySchoolEnrollmentFemale  \n",
            "0                               NaN  \n",
            "1                               NaN  \n",
            "2                               NaN  \n",
            "3                               NaN  \n",
            "4                               NaN  \n",
            "...                             ...  \n",
            "1296                            NaN  \n",
            "1297                            NaN  \n",
            "1298                            NaN  \n",
            "1299                            NaN  \n",
            "1300                            NaN  \n",
            "\n",
            "[1301 rows x 13 columns]\n"
          ]
        }
      ]
    },
    {
      "cell_type": "code",
      "source": [
        "mean_imputed_df = df.fillna(df.mean())"
      ],
      "metadata": {
        "colab": {
          "base_uri": "https://localhost:8080/"
        },
        "id": "uKo8Ff9TkQ1x",
        "outputId": "5897c67c-4dfe-4d46-eab7-7da7f7f6e0cf"
      },
      "id": "uKo8Ff9TkQ1x",
      "execution_count": 9,
      "outputs": [
        {
          "output_type": "stream",
          "name": "stderr",
          "text": [
            "<ipython-input-9-8a2c6fc0e202>:1: FutureWarning: The default value of numeric_only in DataFrame.mean is deprecated. In a future version, it will default to False. In addition, specifying 'numeric_only=None' is deprecated. Select only valid columns or specify the value of numeric_only to silence this warning.\n",
            "  mean_imputed_df = df.fillna(df.mean())\n"
          ]
        }
      ]
    },
    {
      "cell_type": "code",
      "source": [
        " median_imputed_df = df.fillna(df.median(numeric_only=True))\n"
      ],
      "metadata": {
        "id": "p8e_GrMlkhsd"
      },
      "id": "p8e_GrMlkhsd",
      "execution_count": 10,
      "outputs": []
    },
    {
      "cell_type": "code",
      "source": [
        "df.drop_duplicates(inplace=True)\n"
      ],
      "metadata": {
        "id": "79ARHYYgK_xn"
      },
      "execution_count": 11,
      "outputs": [],
      "id": "79ARHYYgK_xn"
    },
    {
      "cell_type": "code",
      "source": [
        "df = pd.DataFrame(data)"
      ],
      "metadata": {
        "colab": {
          "base_uri": "https://localhost:8080/",
          "height": 144
        },
        "id": "MzxEoG3amLH5",
        "outputId": "99e00674-ac53-4b9d-b075-eafc835470f7"
      },
      "id": "MzxEoG3amLH5",
      "execution_count": 16,
      "outputs": [
        {
          "output_type": "error",
          "ename": "NameError",
          "evalue": "name 'data' is not defined",
          "traceback": [
            "\u001b[0;31m---------------------------------------------------------------------------\u001b[0m",
            "\u001b[0;31mNameError\u001b[0m                                 Traceback (most recent call last)",
            "\u001b[0;32m<ipython-input-16-039b238b38ef>\u001b[0m in \u001b[0;36m<cell line: 1>\u001b[0;34m()\u001b[0m\n\u001b[0;32m----> 1\u001b[0;31m \u001b[0mdf\u001b[0m \u001b[0;34m=\u001b[0m \u001b[0mpd\u001b[0m\u001b[0;34m.\u001b[0m\u001b[0mDataFrame\u001b[0m\u001b[0;34m(\u001b[0m\u001b[0mdata\u001b[0m\u001b[0;34m)\u001b[0m\u001b[0;34m\u001b[0m\u001b[0;34m\u001b[0m\u001b[0m\n\u001b[0m",
            "\u001b[0;31mNameError\u001b[0m: name 'data' is not defined"
          ]
        }
      ]
    },
    {
      "cell_type": "code",
      "source": [
        "duplicate_rows = df.duplicated()\n",
        "print(df[duplicate_rows])"
      ],
      "metadata": {
        "colab": {
          "base_uri": "https://localhost:8080/"
        },
        "id": "qcQvoNhuNyFZ",
        "outputId": "f1e8cc11-ce71-4913-9308-3a34b8593be9"
      },
      "execution_count": 17,
      "outputs": [
        {
          "output_type": "stream",
          "name": "stdout",
          "text": [
            "Empty DataFrame\n",
            "Columns: [Country, Region, Population, Under15, Over60, FertilityRate, LifeExpectancy, ChildMortality, CellularSubscribers, LiteracyRate, GNI, PrimarySchoolEnrollmentMale, PrimarySchoolEnrollmentFemale]\n",
            "Index: []\n"
          ]
        }
      ],
      "id": "qcQvoNhuNyFZ"
    },
    {
      "cell_type": "code",
      "source": [
        "df.drop_duplicates(inplace=True)\n",
        "print (df)"
      ],
      "metadata": {
        "colab": {
          "base_uri": "https://localhost:8080/"
        },
        "id": "xwISSzSkmrG3",
        "outputId": "4947aa3f-d917-4aa1-ace0-7dc22374c90a"
      },
      "id": "xwISSzSkmrG3",
      "execution_count": 18,
      "outputs": [
        {
          "output_type": "stream",
          "name": "stdout",
          "text": [
            "                                                Country  Region  Population  \\\n",
            "0     Afghanistan,Eastern Mediterranean,29825,47.42,...     NaN         NaN   \n",
            "1                                                   5.4     NaN         NaN   \n",
            "2                                                   NaN    60.0        98.5   \n",
            "3                                                  1140     NaN         NaN   \n",
            "4                  ,,\\nAlbania,Europe,3162,21.33,14.93,     NaN         NaN   \n",
            "...                                                 ...     ...         ...   \n",
            "1296                \\nZimbabwe,Africa,13724,40.24,5.68,     NaN         NaN   \n",
            "1297                                               3.64     NaN         NaN   \n",
            "1298                                                NaN    54.0        89.8   \n",
            "1299                                               92.2     NaN         NaN   \n",
            "1300                                              ,,,\\n     NaN         NaN   \n",
            "\n",
            "      Under15  Over60  FertilityRate  LifeExpectancy  ChildMortality  \\\n",
            "0         NaN     NaN            NaN             NaN             NaN   \n",
            "1         NaN     NaN            NaN             NaN             NaN   \n",
            "2       54.26     NaN            NaN             NaN             NaN   \n",
            "3         NaN     NaN            NaN             NaN             NaN   \n",
            "4         NaN     NaN            NaN             NaN             NaN   \n",
            "...       ...     ...            ...             ...             ...   \n",
            "1296      NaN     NaN            NaN             NaN             NaN   \n",
            "1297      NaN     NaN            NaN             NaN             NaN   \n",
            "1298    72.13     NaN            NaN             NaN             NaN   \n",
            "1299      NaN     NaN            NaN             NaN             NaN   \n",
            "1300      NaN     NaN            NaN             NaN             NaN   \n",
            "\n",
            "      CellularSubscribers  LiteracyRate  GNI  PrimarySchoolEnrollmentMale  \\\n",
            "0                     NaN           NaN  NaN                          NaN   \n",
            "1                     NaN           NaN  NaN                          NaN   \n",
            "2                     NaN           NaN  NaN                          NaN   \n",
            "3                     NaN           NaN  NaN                          NaN   \n",
            "4                     NaN           NaN  NaN                          NaN   \n",
            "...                   ...           ...  ...                          ...   \n",
            "1296                  NaN           NaN  NaN                          NaN   \n",
            "1297                  NaN           NaN  NaN                          NaN   \n",
            "1298                  NaN           NaN  NaN                          NaN   \n",
            "1299                  NaN           NaN  NaN                          NaN   \n",
            "1300                  NaN           NaN  NaN                          NaN   \n",
            "\n",
            "      PrimarySchoolEnrollmentFemale  \n",
            "0                               NaN  \n",
            "1                               NaN  \n",
            "2                               NaN  \n",
            "3                               NaN  \n",
            "4                               NaN  \n",
            "...                             ...  \n",
            "1296                            NaN  \n",
            "1297                            NaN  \n",
            "1298                            NaN  \n",
            "1299                            NaN  \n",
            "1300                            NaN  \n",
            "\n",
            "[837 rows x 13 columns]\n"
          ]
        }
      ]
    },
    {
      "cell_type": "code",
      "source": [
        "df_cleaned_rows = df.dropna(axis=0)"
      ],
      "metadata": {
        "id": "1OZpN0ujm2wB"
      },
      "id": "1OZpN0ujm2wB",
      "execution_count": 19,
      "outputs": []
    },
    {
      "cell_type": "code",
      "source": [
        "print(df)"
      ],
      "metadata": {
        "colab": {
          "base_uri": "https://localhost:8080/"
        },
        "id": "ngcnAiPGm8ar",
        "outputId": "e91fdc1a-ebce-40e4-d357-2fa6ee812a6c"
      },
      "id": "ngcnAiPGm8ar",
      "execution_count": 20,
      "outputs": [
        {
          "output_type": "stream",
          "name": "stdout",
          "text": [
            "                                                Country  Region  Population  \\\n",
            "0     Afghanistan,Eastern Mediterranean,29825,47.42,...     NaN         NaN   \n",
            "1                                                   5.4     NaN         NaN   \n",
            "2                                                   NaN    60.0        98.5   \n",
            "3                                                  1140     NaN         NaN   \n",
            "4                  ,,\\nAlbania,Europe,3162,21.33,14.93,     NaN         NaN   \n",
            "...                                                 ...     ...         ...   \n",
            "1296                \\nZimbabwe,Africa,13724,40.24,5.68,     NaN         NaN   \n",
            "1297                                               3.64     NaN         NaN   \n",
            "1298                                                NaN    54.0        89.8   \n",
            "1299                                               92.2     NaN         NaN   \n",
            "1300                                              ,,,\\n     NaN         NaN   \n",
            "\n",
            "      Under15  Over60  FertilityRate  LifeExpectancy  ChildMortality  \\\n",
            "0         NaN     NaN            NaN             NaN             NaN   \n",
            "1         NaN     NaN            NaN             NaN             NaN   \n",
            "2       54.26     NaN            NaN             NaN             NaN   \n",
            "3         NaN     NaN            NaN             NaN             NaN   \n",
            "4         NaN     NaN            NaN             NaN             NaN   \n",
            "...       ...     ...            ...             ...             ...   \n",
            "1296      NaN     NaN            NaN             NaN             NaN   \n",
            "1297      NaN     NaN            NaN             NaN             NaN   \n",
            "1298    72.13     NaN            NaN             NaN             NaN   \n",
            "1299      NaN     NaN            NaN             NaN             NaN   \n",
            "1300      NaN     NaN            NaN             NaN             NaN   \n",
            "\n",
            "      CellularSubscribers  LiteracyRate  GNI  PrimarySchoolEnrollmentMale  \\\n",
            "0                     NaN           NaN  NaN                          NaN   \n",
            "1                     NaN           NaN  NaN                          NaN   \n",
            "2                     NaN           NaN  NaN                          NaN   \n",
            "3                     NaN           NaN  NaN                          NaN   \n",
            "4                     NaN           NaN  NaN                          NaN   \n",
            "...                   ...           ...  ...                          ...   \n",
            "1296                  NaN           NaN  NaN                          NaN   \n",
            "1297                  NaN           NaN  NaN                          NaN   \n",
            "1298                  NaN           NaN  NaN                          NaN   \n",
            "1299                  NaN           NaN  NaN                          NaN   \n",
            "1300                  NaN           NaN  NaN                          NaN   \n",
            "\n",
            "      PrimarySchoolEnrollmentFemale  \n",
            "0                               NaN  \n",
            "1                               NaN  \n",
            "2                               NaN  \n",
            "3                               NaN  \n",
            "4                               NaN  \n",
            "...                             ...  \n",
            "1296                            NaN  \n",
            "1297                            NaN  \n",
            "1298                            NaN  \n",
            "1299                            NaN  \n",
            "1300                            NaN  \n",
            "\n",
            "[837 rows x 13 columns]\n"
          ]
        }
      ]
    },
    {
      "cell_type": "code",
      "source": [
        "df_cleaned_cols = df.dropna(axis=1)"
      ],
      "metadata": {
        "id": "TADqSEvFnBi2"
      },
      "id": "TADqSEvFnBi2",
      "execution_count": 21,
      "outputs": []
    },
    {
      "cell_type": "code",
      "source": [
        "missing_values = df.isnull().sum()\n",
        "\n",
        "print(\"Missing values per column:\")\n",
        "print(missing_values)"
      ],
      "metadata": {
        "colab": {
          "base_uri": "https://localhost:8080/"
        },
        "id": "AzpesNPLnXIc",
        "outputId": "8593b11b-fc9e-464a-fd9a-abe571e07758"
      },
      "id": "AzpesNPLnXIc",
      "execution_count": 22,
      "outputs": [
        {
          "output_type": "stream",
          "name": "stdout",
          "text": [
            "Missing values per column:\n",
            "Country                          175\n",
            "Region                           663\n",
            "Population                       663\n",
            "Under15                          668\n",
            "Over60                           837\n",
            "FertilityRate                    837\n",
            "LifeExpectancy                   837\n",
            "ChildMortality                   837\n",
            "CellularSubscribers              837\n",
            "LiteracyRate                     837\n",
            "GNI                              837\n",
            "PrimarySchoolEnrollmentMale      837\n",
            "PrimarySchoolEnrollmentFemale    837\n",
            "dtype: int64\n"
          ]
        }
      ]
    },
    {
      "cell_type": "code",
      "source": [
        "total_missing = df.isnull().sum().sum()\n",
        "print(\"Total missing values:\", total_missing)"
      ],
      "metadata": {
        "colab": {
          "base_uri": "https://localhost:8080/"
        },
        "id": "2UQNIHN8nc_B",
        "outputId": "32b64224-65b2-470b-fd99-83c72cc180e7"
      },
      "id": "2UQNIHN8nc_B",
      "execution_count": 23,
      "outputs": [
        {
          "output_type": "stream",
          "name": "stdout",
          "text": [
            "Total missing values: 9702\n"
          ]
        }
      ]
    },
    {
      "cell_type": "code",
      "source": [
        "df.dropna(inplace=True)"
      ],
      "metadata": {
        "id": "_76iVl5Unjvj"
      },
      "id": "_76iVl5Unjvj",
      "execution_count": 24,
      "outputs": []
    },
    {
      "cell_type": "code",
      "source": [
        "duplicate_rows = df[df.duplicated()]"
      ],
      "metadata": {
        "id": "klB1ciARnn6T"
      },
      "id": "klB1ciARnn6T",
      "execution_count": 25,
      "outputs": []
    },
    {
      "cell_type": "code",
      "source": [
        "df.drop_duplicates(inplace=True)"
      ],
      "metadata": {
        "colab": {
          "base_uri": "https://localhost:8080/",
          "height": 73
        },
        "id": "w9sZi5OYns1E",
        "outputId": "1b83ce41-ca59-484c-8880-485aca61eb97"
      },
      "id": "w9sZi5OYns1E",
      "execution_count": 26,
      "outputs": [
        {
          "output_type": "execute_result",
          "data": {
            "text/plain": [
              "Empty DataFrame\n",
              "Columns: [Country, Region, Population, Under15, Over60, FertilityRate, LifeExpectancy, ChildMortality, CellularSubscribers, LiteracyRate, GNI, PrimarySchoolEnrollmentMale, PrimarySchoolEnrollmentFemale]\n",
              "Index: []"
            ],
            "text/html": [
              "\n",
              "  <div id=\"df-5aaecc98-8cec-47b9-93ba-ab1e518eff47\" class=\"colab-df-container\">\n",
              "    <div>\n",
              "<style scoped>\n",
              "    .dataframe tbody tr th:only-of-type {\n",
              "        vertical-align: middle;\n",
              "    }\n",
              "\n",
              "    .dataframe tbody tr th {\n",
              "        vertical-align: top;\n",
              "    }\n",
              "\n",
              "    .dataframe thead th {\n",
              "        text-align: right;\n",
              "    }\n",
              "</style>\n",
              "<table border=\"1\" class=\"dataframe\">\n",
              "  <thead>\n",
              "    <tr style=\"text-align: right;\">\n",
              "      <th></th>\n",
              "      <th>Country</th>\n",
              "      <th>Region</th>\n",
              "      <th>Population</th>\n",
              "      <th>Under15</th>\n",
              "      <th>Over60</th>\n",
              "      <th>FertilityRate</th>\n",
              "      <th>LifeExpectancy</th>\n",
              "      <th>ChildMortality</th>\n",
              "      <th>CellularSubscribers</th>\n",
              "      <th>LiteracyRate</th>\n",
              "      <th>GNI</th>\n",
              "      <th>PrimarySchoolEnrollmentMale</th>\n",
              "      <th>PrimarySchoolEnrollmentFemale</th>\n",
              "    </tr>\n",
              "  </thead>\n",
              "  <tbody>\n",
              "  </tbody>\n",
              "</table>\n",
              "</div>\n",
              "    <div class=\"colab-df-buttons\">\n",
              "\n",
              "  <div class=\"colab-df-container\">\n",
              "    <button class=\"colab-df-convert\" onclick=\"convertToInteractive('df-5aaecc98-8cec-47b9-93ba-ab1e518eff47')\"\n",
              "            title=\"Convert this dataframe to an interactive table.\"\n",
              "            style=\"display:none;\">\n",
              "\n",
              "  <svg xmlns=\"http://www.w3.org/2000/svg\" height=\"24px\" viewBox=\"0 -960 960 960\">\n",
              "    <path d=\"M120-120v-720h720v720H120Zm60-500h600v-160H180v160Zm220 220h160v-160H400v160Zm0 220h160v-160H400v160ZM180-400h160v-160H180v160Zm440 0h160v-160H620v160ZM180-180h160v-160H180v160Zm440 0h160v-160H620v160Z\"/>\n",
              "  </svg>\n",
              "    </button>\n",
              "\n",
              "  <style>\n",
              "    .colab-df-container {\n",
              "      display:flex;\n",
              "      gap: 12px;\n",
              "    }\n",
              "\n",
              "    .colab-df-convert {\n",
              "      background-color: #E8F0FE;\n",
              "      border: none;\n",
              "      border-radius: 50%;\n",
              "      cursor: pointer;\n",
              "      display: none;\n",
              "      fill: #1967D2;\n",
              "      height: 32px;\n",
              "      padding: 0 0 0 0;\n",
              "      width: 32px;\n",
              "    }\n",
              "\n",
              "    .colab-df-convert:hover {\n",
              "      background-color: #E2EBFA;\n",
              "      box-shadow: 0px 1px 2px rgba(60, 64, 67, 0.3), 0px 1px 3px 1px rgba(60, 64, 67, 0.15);\n",
              "      fill: #174EA6;\n",
              "    }\n",
              "\n",
              "    .colab-df-buttons div {\n",
              "      margin-bottom: 4px;\n",
              "    }\n",
              "\n",
              "    [theme=dark] .colab-df-convert {\n",
              "      background-color: #3B4455;\n",
              "      fill: #D2E3FC;\n",
              "    }\n",
              "\n",
              "    [theme=dark] .colab-df-convert:hover {\n",
              "      background-color: #434B5C;\n",
              "      box-shadow: 0px 1px 3px 1px rgba(0, 0, 0, 0.15);\n",
              "      filter: drop-shadow(0px 1px 2px rgba(0, 0, 0, 0.3));\n",
              "      fill: #FFFFFF;\n",
              "    }\n",
              "  </style>\n",
              "\n",
              "    <script>\n",
              "      const buttonEl =\n",
              "        document.querySelector('#df-5aaecc98-8cec-47b9-93ba-ab1e518eff47 button.colab-df-convert');\n",
              "      buttonEl.style.display =\n",
              "        google.colab.kernel.accessAllowed ? 'block' : 'none';\n",
              "\n",
              "      async function convertToInteractive(key) {\n",
              "        const element = document.querySelector('#df-5aaecc98-8cec-47b9-93ba-ab1e518eff47');\n",
              "        const dataTable =\n",
              "          await google.colab.kernel.invokeFunction('convertToInteractive',\n",
              "                                                    [key], {});\n",
              "        if (!dataTable) return;\n",
              "\n",
              "        const docLinkHtml = 'Like what you see? Visit the ' +\n",
              "          '<a target=\"_blank\" href=https://colab.research.google.com/notebooks/data_table.ipynb>data table notebook</a>'\n",
              "          + ' to learn more about interactive tables.';\n",
              "        element.innerHTML = '';\n",
              "        dataTable['output_type'] = 'display_data';\n",
              "        await google.colab.output.renderOutput(dataTable, element);\n",
              "        const docLink = document.createElement('div');\n",
              "        docLink.innerHTML = docLinkHtml;\n",
              "        element.appendChild(docLink);\n",
              "      }\n",
              "    </script>\n",
              "  </div>\n",
              "\n",
              "\n",
              "    </div>\n",
              "  </div>\n"
            ],
            "application/vnd.google.colaboratory.intrinsic+json": {
              "type": "dataframe",
              "repr_error": "Out of range float values are not JSON compliant: nan"
            }
          },
          "metadata": {},
          "execution_count": 26
        }
      ]
    },
    {
      "cell_type": "code",
      "source": [
        "print(\"Duplicate Rows:\")\n",
        "print(duplicate_rows)"
      ],
      "metadata": {
        "colab": {
          "base_uri": "https://localhost:8080/"
        },
        "id": "9H-iPUc3nwYS",
        "outputId": "4937cbd3-fa3b-4ac1-ed03-1836c061f680"
      },
      "id": "9H-iPUc3nwYS",
      "execution_count": 27,
      "outputs": [
        {
          "output_type": "stream",
          "name": "stdout",
          "text": [
            "Duplicate Rows:\n",
            "Empty DataFrame\n",
            "Columns: [Country, Region, Population, Under15, Over60, FertilityRate, LifeExpectancy, ChildMortality, CellularSubscribers, LiteracyRate, GNI, PrimarySchoolEnrollmentMale, PrimarySchoolEnrollmentFemale]\n",
            "Index: []\n"
          ]
        }
      ]
    },
    {
      "cell_type": "code",
      "source": [
        "for column in df.columns:\n",
        "    print(column, df[column].unique())"
      ],
      "metadata": {
        "colab": {
          "base_uri": "https://localhost:8080/"
        },
        "id": "7osM81OhoFrE",
        "outputId": "e4272d1e-1d04-4e06-ead6-f88d17837916"
      },
      "id": "7osM81OhoFrE",
      "execution_count": 28,
      "outputs": [
        {
          "output_type": "stream",
          "name": "stdout",
          "text": [
            "Country []\n",
            "Region []\n",
            "Population []\n",
            "Under15 []\n",
            "Over60 []\n",
            "FertilityRate []\n",
            "LifeExpectancy []\n",
            "ChildMortality []\n",
            "CellularSubscribers []\n",
            "LiteracyRate []\n",
            "GNI []\n",
            "PrimarySchoolEnrollmentMale []\n",
            "PrimarySchoolEnrollmentFemale []\n"
          ]
        }
      ]
    },
    {
      "cell_type": "code",
      "source": [
        "original_df = pd.read_csv(\"data.csv\")"
      ],
      "metadata": {
        "id": "HOdTyVRmoIDa"
      },
      "id": "HOdTyVRmoIDa",
      "execution_count": 29,
      "outputs": []
    },
    {
      "cell_type": "code",
      "source": [
        "cleaned_df = original_df.dropna(axis=1)"
      ],
      "metadata": {
        "id": "UBsArmAkoTes"
      },
      "id": "UBsArmAkoTes",
      "execution_count": 30,
      "outputs": []
    },
    {
      "cell_type": "code",
      "source": [
        "print (df)"
      ],
      "metadata": {
        "colab": {
          "base_uri": "https://localhost:8080/"
        },
        "id": "EBC2X9A4ofbe",
        "outputId": "68fddaa2-9613-47eb-8848-f1ace5b71c67"
      },
      "id": "EBC2X9A4ofbe",
      "execution_count": 31,
      "outputs": [
        {
          "output_type": "stream",
          "name": "stdout",
          "text": [
            "Empty DataFrame\n",
            "Columns: [Country, Region, Population, Under15, Over60, FertilityRate, LifeExpectancy, ChildMortality, CellularSubscribers, LiteracyRate, GNI, PrimarySchoolEnrollmentMale, PrimarySchoolEnrollmentFemale]\n",
            "Index: []\n"
          ]
        }
      ]
    },
    {
      "cell_type": "code",
      "source": [
        "data_types = original_df.dtypes\n",
        "print(data_types)"
      ],
      "metadata": {
        "colab": {
          "base_uri": "https://localhost:8080/"
        },
        "id": "AU_2tf0coiyD",
        "outputId": "a470a774-bbfe-48e7-daae-c3f2cfe98c22"
      },
      "id": "AU_2tf0coiyD",
      "execution_count": 32,
      "outputs": [
        {
          "output_type": "stream",
          "name": "stdout",
          "text": [
            "Country                           object\n",
            "Region                           float64\n",
            "Population                       float64\n",
            "Under15                          float64\n",
            "Over60                           float64\n",
            "FertilityRate                    float64\n",
            "LifeExpectancy                   float64\n",
            "ChildMortality                   float64\n",
            "CellularSubscribers              float64\n",
            "LiteracyRate                     float64\n",
            "GNI                              float64\n",
            "PrimarySchoolEnrollmentMale      float64\n",
            "PrimarySchoolEnrollmentFemale    float64\n",
            "dtype: object\n"
          ]
        }
      ]
    },
    {
      "cell_type": "code",
      "source": [
        "observed_data_types = df.dtypes\n",
        "expected_data_types = {\n",
        "    'column1': 'expected_type1',\n",
        "    'column2': 'expected_type2',\n",
        "    'column3': 'expected_type3',\n",
        "    'column4': 'expected_type4',\n",
        "    'column5': 'expected_type5',\n",
        "    'column6': 'expected_type6',\n",
        "    'column7': 'expected_type7',\n",
        "    'column8': 'expected_type8',\n",
        "    'column9': 'expected_type9',\n",
        "    'column10': 'expected_type10',\n",
        "    'column11': 'expected_type11',\n",
        "    'column12': 'expected_type12',\n",
        "}\n",
        "mismatched_columns = []\n",
        "for column, observed_type in observed_data_types.items():\n",
        "    expected_type = expected_data_types.get(column)\n",
        "    if expected_type and observed_type != expected_type:\n",
        "        mismatched_columns.append((column, observed_type, expected_type))\n",
        "if mismatched_columns:\n",
        "    print(\"Mismatched columns:\")\n",
        "    for column, observed_type, expected_type in mismatched_columns:\n",
        "        print(f\"Column: {column}, Observed type: {observed_type}, Expected type: {expected_type}\")\n",
        "else:\n",
        "    print(\"No mismatched columns found.\")"
      ],
      "metadata": {
        "colab": {
          "base_uri": "https://localhost:8080/"
        },
        "id": "Rn0WhZ4ZoshH",
        "outputId": "027b01d8-79ec-4a86-9100-61e31669b451"
      },
      "id": "Rn0WhZ4ZoshH",
      "execution_count": 33,
      "outputs": [
        {
          "output_type": "stream",
          "name": "stdout",
          "text": [
            "No mismatched columns found.\n"
          ]
        }
      ]
    },
    {
      "cell_type": "code",
      "source": [
        "missing_values = df.isnull().sum()\n",
        "if missing_values.sum() == 0:\n",
        "    print(\"No missing values remaining.\")\n",
        "else:\n",
        "    print(\"Missing values still exist in the dataset.\")\n",
        "    print(\"Number of missing values per column:\")\n",
        "    print(missing_values)"
      ],
      "metadata": {
        "colab": {
          "base_uri": "https://localhost:8080/"
        },
        "id": "FDxRDFf8oyuY",
        "outputId": "69601c32-b2e7-49f7-daa2-81f9161c366e"
      },
      "id": "FDxRDFf8oyuY",
      "execution_count": 34,
      "outputs": [
        {
          "output_type": "stream",
          "name": "stdout",
          "text": [
            "No missing values remaining.\n"
          ]
        }
      ]
    },
    {
      "cell_type": "code",
      "source": [
        "health_and_demographics_df = df.copy()"
      ],
      "metadata": {
        "id": "DJFxLcTZo8x1"
      },
      "id": "DJFxLcTZo8x1",
      "execution_count": 35,
      "outputs": []
    },
    {
      "cell_type": "code",
      "source": [
        "print(health_and_demographics_df.columns)"
      ],
      "metadata": {
        "colab": {
          "base_uri": "https://localhost:8080/"
        },
        "id": "caPxT5SjpAzy",
        "outputId": "e10d28cb-c0eb-427f-acfc-f88281935bd3"
      },
      "id": "caPxT5SjpAzy",
      "execution_count": 36,
      "outputs": [
        {
          "output_type": "stream",
          "name": "stdout",
          "text": [
            "Index(['Country', 'Region', 'Population', 'Under15', 'Over60', 'FertilityRate',\n",
            "       'LifeExpectancy', 'ChildMortality', 'CellularSubscribers',\n",
            "       'LiteracyRate', 'GNI', 'PrimarySchoolEnrollmentMale',\n",
            "       'PrimarySchoolEnrollmentFemale'],\n",
            "      dtype='object')\n"
          ]
        }
      ]
    },
    {
      "cell_type": "markdown",
      "id": "interpreted-hurricane",
      "metadata": {
        "id": "interpreted-hurricane"
      },
      "source": [
        "# 3. Conclusion and insights"
      ]
    },
    {
      "cell_type": "code",
      "execution_count": null,
      "id": "actual-marketplace",
      "metadata": {
        "id": "actual-marketplace"
      },
      "outputs": [],
      "source": []
    },
    {
      "cell_type": "markdown",
      "source": [],
      "metadata": {
        "id": "fHSV5b8CnPuH"
      },
      "id": "fHSV5b8CnPuH"
    },
    {
      "cell_type": "markdown",
      "source": [
        "I first determined the nature of the dataset, which i found that is completely missing at random. I used a simple imputations methods like mean and median. The data had duplicate rows and i removed them entirely from the dataset.  I chose a method that strikes a balance between prese\n",
        "ving data integrity, addressing missing values or duplicates effectively, and being computationally efficient. This ensures that the resulting dataset is suitable for further analysis while minimizing potential biases or distortions introduced by the handling method"
      ],
      "metadata": {
        "id": "30dQaWKqRJ6R"
      },
      "id": "30dQaWKqRJ6R"
    }
  ],
  "metadata": {
    "kernelspec": {
      "display_name": "Python 3",
      "language": "python",
      "name": "python3"
    },
    "language_info": {
      "codemirror_mode": {
        "name": "ipython",
        "version": 3
      },
      "file_extension": ".py",
      "mimetype": "text/x-python",
      "name": "python",
      "nbconvert_exporter": "python",
      "pygments_lexer": "ipython3",
      "version": "3.8.5"
    },
    "colab": {
      "provenance": [],
      "toc_visible": true,
      "include_colab_link": true
    }
  },
  "nbformat": 4,
  "nbformat_minor": 5
}